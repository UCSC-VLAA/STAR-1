{
 "cells": [
  {
   "cell_type": "code",
   "execution_count": 2,
   "metadata": {},
   "outputs": [],
   "source": [
    "import os\n",
    "import json\n",
    "save_pth = f\"./datasets/all_10_1k_ds_tmp.json\"\n",
    "if os.path.exists(save_pth):\n",
    "    items = [json.loads(line) for line in open(save_pth)]\n",
    "else:\n",
    "    items = []\n",
    "# print(items)\n",
    "# with open(\"score.json\", \"w\") as f:\n",
    "with open(\"test.json\", \"w\") as f:\n",
    "    json.dump(items, f)"
   ]
  },
  {
   "cell_type": "code",
   "execution_count": 2,
   "metadata": {},
   "outputs": [],
   "source": [
    "import json\n",
    "import random\n",
    "\n",
    "with open(\"test.json\", \"r\") as f:\n",
    "    items = json.load(f)\n",
    "sampled_items = random.choices(items, k=100)\n",
    "# print(sampled_items)\n",
    "\n",
    "with open(\"sampled_test.json\", \"w\") as f:\n",
    "    json.dump(sampled_items, f)"
   ]
  },
  {
   "cell_type": "code",
   "execution_count": 3,
   "metadata": {},
   "outputs": [],
   "source": [
    "import os\n",
    "import json\n",
    "save_pth = f\"./datasets/all_10_1k_ds_tmp.json\"\n",
    "if os.path.exists(save_pth):\n",
    "    items = [json.loads(line) for line in open(save_pth)]\n",
    "else:\n",
    "    items = []\n",
    "new_items = []\n",
    "for item in items:\n",
    "    new_items.append({\n",
    "        \"question\": item[\"rewite_benign_question\"],\n",
    "        \"train_id\": item[\"train_id\"]\n",
    "    })\n",
    "with open(\"rewite_benign.json\", \"w\") as f:\n",
    "    json.dump(new_items, f)"
   ]
  }
 ],
 "metadata": {
  "kernelspec": {
   "display_name": "alignment_data",
   "language": "python",
   "name": "python3"
  },
  "language_info": {
   "codemirror_mode": {
    "name": "ipython",
    "version": 3
   },
   "file_extension": ".py",
   "mimetype": "text/x-python",
   "name": "python",
   "nbconvert_exporter": "python",
   "pygments_lexer": "ipython3",
   "version": "3.11.0"
  }
 },
 "nbformat": 4,
 "nbformat_minor": 2
}
